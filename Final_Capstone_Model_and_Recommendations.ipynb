{
  "nbformat": 4,
  "nbformat_minor": 0,
  "metadata": {
    "colab": {
      "name": "Final Capstone_Model and Recommendations.ipynb",
      "provenance": [],
      "collapsed_sections": [],
      "machine_shape": "hm",
      "authorship_tag": "ABX9TyOGBfH6y3x/75Z06lJ3m5ZF",
      "include_colab_link": true
    },
    "kernelspec": {
      "name": "python3",
      "display_name": "Python 3"
    }
  },
  "cells": [
    {
      "cell_type": "markdown",
      "metadata": {
        "id": "view-in-github",
        "colab_type": "text"
      },
      "source": [
        "<a href=\"https://colab.research.google.com/github/ShannonElise86/ShannonElise86.gihub.io/blob/master/Final_Capstone_Model_and_Recommendations.ipynb\" target=\"_parent\"><img src=\"https://colab.research.google.com/assets/colab-badge.svg\" alt=\"Open In Colab\"/></a>"
      ]
    },
    {
      "cell_type": "markdown",
      "metadata": {
        "id": "xa67QKGeLeig",
        "colab_type": "text"
      },
      "source": [
        "# Recommender Model\n",
        "\n",
        "\n",
        "\n",
        "> ***Overview***\n",
        "\n",
        "In this notebook, I use the Alternating Least Squares pipeline from Apache Spark. Then, the model with the best predictions is used to give the top ten recommended products for each user. \n",
        "\n",
        "***Challenges and Limitations***\n",
        "\n",
        "\n",
        "\n",
        "> Ideally, this model would be used to generate recommendations from a dataset containing millions of reviews. However, without access to a distributed computing framework, I am limited to a smaller dataset using my personal laptop. \n",
        "\n",
        "\n",
        "\n",
        "> Additionally, I use the ParamGrid package to generate multiple combinations of parameters to test the model. Unfortunately, the memory available cannot handle more than a few combinations at once. To accomodate this, I will use the ParamGrid a number of times to tune the model.\n",
        "\n",
        "\n",
        "\n",
        "\n",
        "\n"
      ]
    },
    {
      "cell_type": "code",
      "metadata": {
        "colab_type": "code",
        "id": "ahlaHUHYnGcg",
        "colab": {}
      },
      "source": [
        "#Install Java and Apache Spark\n",
        "!apt-get install openjdk-8-jdk-headless -qq > /dev/null\n",
        "!wget -q https://www-us.apache.org/dist/spark/spark-2.4.5/spark-2.4.5-bin-hadoop2.7.tgz\n",
        "!tar xf spark-2.4.5-bin-hadoop2.7.tgz"
      ],
      "execution_count": 0,
      "outputs": []
    },
    {
      "cell_type": "code",
      "metadata": {
        "id": "9XAcxTYDReLF",
        "colab_type": "code",
        "outputId": "adf46e62-9683-46de-9cf3-b0c6afe241b7",
        "colab": {
          "base_uri": "https://localhost:8080/",
          "height": 51
        }
      },
      "source": [
        "# Install spark-related depdencies for Python\n",
        "!pip install -q findspark\n",
        "!pip install pyspark"
      ],
      "execution_count": 6,
      "outputs": [
        {
          "output_type": "stream",
          "text": [
            "Requirement already satisfied: pyspark in /usr/local/lib/python3.6/dist-packages (2.4.5)\n",
            "Requirement already satisfied: py4j==0.10.7 in /usr/local/lib/python3.6/dist-packages (from pyspark) (0.10.7)\n"
          ],
          "name": "stdout"
        }
      ]
    },
    {
      "cell_type": "code",
      "metadata": {
        "colab_type": "code",
        "id": "9pxKUb5pnHix",
        "colab": {}
      },
      "source": [
        "import os\n",
        "os.environ[\"JAVA_HOME\"] = \"/usr/lib/jvm/java-8-openjdk-amd64\"\n",
        "os.environ[\"SPARK_HOME\"] = \"/content/spark-2.4.5-bin-hadoop2.7\""
      ],
      "execution_count": 0,
      "outputs": []
    },
    {
      "cell_type": "code",
      "metadata": {
        "id": "zMVuIlQ-ReLM",
        "colab_type": "code",
        "outputId": "82e405cf-6958-417f-b1c4-3cf233e3745c",
        "colab": {
          "base_uri": "https://localhost:8080/",
          "height": 34
        }
      },
      "source": [
        "from google.colab import drive\n",
        "drive.mount('/content/gdrive')"
      ],
      "execution_count": 8,
      "outputs": [
        {
          "output_type": "stream",
          "text": [
            "Drive already mounted at /content/gdrive; to attempt to forcibly remount, call drive.mount(\"/content/gdrive\", force_remount=True).\n"
          ],
          "name": "stdout"
        }
      ]
    },
    {
      "cell_type": "code",
      "metadata": {
        "id": "2aK98pul1Gzy",
        "colab_type": "code",
        "colab": {}
      },
      "source": [
        "import json\n",
        "import gzip\n",
        "import pandas as pd\n",
        "\n",
        "from pyspark import SparkContext\n",
        "from pyspark.sql import SparkSession, SQLContext\n",
        "from pyspark.sql.functions import isnan, when, count, col\n",
        "\n",
        "import numpy as np\n",
        "import functools\n",
        "%matplotlib inline\n",
        "\n",
        "from pyspark.ml.recommendation import ALS\n",
        "from pyspark.ml.evaluation import RegressionEvaluator\n",
        "from pyspark.ml.tuning import ParamGridBuilder, CrossValidator\n",
        "from pyspark.ml.evaluation import RegressionEvaluator"
      ],
      "execution_count": 0,
      "outputs": []
    },
    {
      "cell_type": "code",
      "metadata": {
        "id": "OGIK-bl21Gz-",
        "colab_type": "code",
        "colab": {}
      },
      "source": [
        "DATA_NAME = '/content/gdrive/My Drive/lux_beauty_index.json'\n",
        "APP_NAME = \"Amazon Clothing Recommender\"\n",
        "SPARK_URL = \"local[*]\"\n",
        "MAX_MEMORY = \"6g\""
      ],
      "execution_count": 0,
      "outputs": []
    },
    {
      "cell_type": "code",
      "metadata": {
        "colab_type": "code",
        "id": "1jxQcwJkAZQ2",
        "colab": {}
      },
      "source": [
        "sc = SparkSession.builder.appName(APP_NAME).config('spark.driver.memory', MAX_MEMORY).config('spark.driver.memory', MAX_MEMORY).master(SPARK_URL).getOrCreate()\n",
        "sc.sparkContext.setCheckpointDir('/tmp')\n",
        "sqlContext = SQLContext(sc)"
      ],
      "execution_count": 0,
      "outputs": []
    },
    {
      "cell_type": "code",
      "metadata": {
        "id": "vxQQf3eTrdv2",
        "colab_type": "code",
        "colab": {}
      },
      "source": [
        "df = sqlContext.read.json(DATA_NAME)"
      ],
      "execution_count": 0,
      "outputs": []
    },
    {
      "cell_type": "code",
      "metadata": {
        "id": "RHP4EC8p1G0T",
        "colab_type": "code",
        "outputId": "6cff2277-8a78-43e0-e778-dadf670a5d6c",
        "colab": {
          "base_uri": "https://localhost:8080/",
          "height": 34
        }
      },
      "source": [
        "print(f\"Dataset shape is {df.count():d} rows by {len(df.columns):d} columns.\")"
      ],
      "execution_count": 13,
      "outputs": [
        {
          "output_type": "stream",
          "text": [
            "Dataset shape is 27823 rows by 6 columns.\n"
          ],
          "name": "stdout"
        }
      ]
    },
    {
      "cell_type": "code",
      "metadata": {
        "id": "Vg7kG4TiIYz2",
        "colab_type": "code",
        "outputId": "abc78896-206e-4e65-ee84-1cfab03f8d5a",
        "colab": {
          "base_uri": "https://localhost:8080/",
          "height": 153
        }
      },
      "source": [
        "df.printSchema()"
      ],
      "execution_count": 14,
      "outputs": [
        {
          "output_type": "stream",
          "text": [
            "root\n",
            " |-- productID: string (nullable = true)\n",
            " |-- product_index: long (nullable = true)\n",
            " |-- rating: double (nullable = true)\n",
            " |-- reviewerID: string (nullable = true)\n",
            " |-- reviewer_index: long (nullable = true)\n",
            " |-- title: string (nullable = true)\n",
            "\n"
          ],
          "name": "stdout"
        }
      ]
    },
    {
      "cell_type": "code",
      "metadata": {
        "id": "h32ZELrp24G2",
        "colab_type": "code",
        "outputId": "ccde483f-8379-425d-a59b-79c1c276b9bb",
        "colab": {
          "base_uri": "https://localhost:8080/",
          "height": 459
        }
      },
      "source": [
        "df.show()"
      ],
      "execution_count": 15,
      "outputs": [
        {
          "output_type": "stream",
          "text": [
            "+----------+-------------+------+--------------+--------------+--------------------+\n",
            "| productID|product_index|rating|    reviewerID|reviewer_index|               title|\n",
            "+----------+-------------+------+--------------+--------------+--------------------+\n",
            "|B000142FVW|          236|   4.0|A3DZFW2XL5S6XK|          1338|OPI Nail Lacquer,...|\n",
            "|B0001435D4|          643|   1.0|A2LAFL37V088EU|            24|OPI Nail Lacquer ...|\n",
            "|B00014GT8W|          353|   3.0|A2V92F5R7MLCVI|           326|Dermablend Cover ...|\n",
            "|B00014GT8W|          353|   4.0| AS44QEHT3KSPK|           330|Dermablend Cover ...|\n",
            "|B00021DXVA|          264|   5.0|A19UTUEBWKIZFT|          1947|VINCENT LONGO Wat...|\n",
            "|B00021DXVA|          264|   4.0|A13KW5I9IHQ039|          3382|VINCENT LONGO Wat...|\n",
            "|B00025WYZC|          786|   4.0|A2FNA5903D9E6Y|           653|Crabtree & Evelyn...|\n",
            "|B0002RI2PG|           86|   5.0| AQCYEZYS51OBC|          3782|Dermablend Loose ...|\n",
            "|B0002RI2PG|           86|   4.0|A2ZJPDH0YP90SD|          2773|Dermablend Loose ...|\n",
            "|B00063M3EC|         1445|   2.0|A1SG1DJ72ISCRU|          3157|Marvis Jasmin Min...|\n",
            "|B0006PJRRG|          503|   2.0|A3HBZYCHTIGP5S|           786|ZOYA Nail Polish,...|\n",
            "|B0006PLMFQ|         1462|   3.0|A23H193P451P74|          2854|essie Nail Color ...|\n",
            "|B0006PLMFQ|         1462|   5.0| A7KDJ0MVYYRA0|           785|essie Nail Color ...|\n",
            "|B0006PLMFQ|         1462|   5.0|A17JGEYNQRYMHE|          1582|essie Nail Color ...|\n",
            "|B0006PLMFQ|         1462|   4.0|A2P652CXM82IH6|          2442|essie Nail Color ...|\n",
            "|B0006PLMFQ|         1462|   5.0|A34ZOFAJWL9UAM|          2798|essie Nail Color ...|\n",
            "|B0007M11XQ|         1289|   4.0| AV37OT7S682UW|           175|Proraso Shaving C...|\n",
            "|B000B9ECAE|         1111|   5.0|A3LSOG7F3ZCJ65|           969|Supersmile Profes...|\n",
            "|B000CR0J0M|            4|   1.0|A29MA4EBRF6TGH|           397|Bioelements Cruci...|\n",
            "|B000G0JZYQ|         1200|   5.0|A11FX8HL2ANK6T|            96|MERKUR Futur Adju...|\n",
            "+----------+-------------+------+--------------+--------------+--------------------+\n",
            "only showing top 20 rows\n",
            "\n"
          ],
          "name": "stdout"
        }
      ]
    },
    {
      "cell_type": "markdown",
      "metadata": {
        "id": "BbOgw2uGyFEC",
        "colab_type": "text"
      },
      "source": [
        "### Checking the Sparsity"
      ]
    },
    {
      "cell_type": "markdown",
      "metadata": {
        "id": "7vZmPkObNJt0",
        "colab_type": "text"
      },
      "source": [
        "The ALS model builds a matrix of reviewers and products, filling in the ratings given. Many of the cells in the matrix are not filled, hence, a sparse matrix. If the matrix is too sparse, it is difficult to get accurate predictions. Having a matrix with no less than 0.05% filled is a baseline goal for the collaborative filltering method."
      ]
    },
    {
      "cell_type": "code",
      "metadata": {
        "id": "6r2jyOJQep7F",
        "colab_type": "code",
        "colab": {}
      },
      "source": [
        "numerator = df.count()"
      ],
      "execution_count": 0,
      "outputs": []
    },
    {
      "cell_type": "code",
      "metadata": {
        "id": "6SV464-whSov",
        "colab_type": "code",
        "colab": {}
      },
      "source": [
        "total_reviewers = df.select('reviewer_index').distinct().count()\n",
        "total_products = df.select('product_index').distinct().count()"
      ],
      "execution_count": 0,
      "outputs": []
    },
    {
      "cell_type": "code",
      "metadata": {
        "id": "DMfqkfzfh9UJ",
        "colab_type": "code",
        "colab": {}
      },
      "source": [
        "denominator = total_reviewers * total_products"
      ],
      "execution_count": 0,
      "outputs": []
    },
    {
      "cell_type": "code",
      "metadata": {
        "id": "lVj3mtVJiy3t",
        "colab_type": "code",
        "outputId": "1b3706d1-a66a-4176-8c80-0b70e37925f5",
        "colab": {
          "base_uri": "https://localhost:8080/",
          "height": 51
        }
      },
      "source": [
        "#sparsity\n",
        "sparsity = ((numerator*1.0/denominator)*100)\n",
        "print('Percent of the matrix filled:')\n",
        "print(sparsity)"
      ],
      "execution_count": 19,
      "outputs": [
        {
          "output_type": "stream",
          "text": [
            "Percent of the matrix filled:\n",
            "0.4730196224173525\n"
          ],
          "name": "stdout"
        }
      ]
    },
    {
      "cell_type": "markdown",
      "metadata": {
        "id": "kVKkqjTsRdYN",
        "colab_type": "text"
      },
      "source": [
        "With 0.47% of the matrix filled in, we're off to a good start!"
      ]
    },
    {
      "cell_type": "markdown",
      "metadata": {
        "id": "OtI_f41kyRLp",
        "colab_type": "text"
      },
      "source": [
        "## Alternating Least Squares "
      ]
    },
    {
      "cell_type": "markdown",
      "metadata": {
        "id": "ZOlSkZLQNDXS",
        "colab_type": "text"
      },
      "source": [
        "To begin selecting the best model, I start by building a baseline model using the default parameters. Then, to tune the model, I use a ParamGrid to try combinations of parameters."
      ]
    },
    {
      "cell_type": "code",
      "metadata": {
        "id": "dSxIVh3ohAfB",
        "colab_type": "code",
        "colab": {}
      },
      "source": [
        "#Split the data\n",
        "(training_data, test_data) = df.randomSplit([0.8, 0.2], seed=123)"
      ],
      "execution_count": 0,
      "outputs": []
    },
    {
      "cell_type": "code",
      "metadata": {
        "id": "hTu8ItS9ieMT",
        "colab_type": "code",
        "colab": {}
      },
      "source": [
        "#build a baseline model using default parameters\n",
        "als_model = ALS(userCol='reviewer_index', itemCol='product_index', ratingCol='rating', \n",
        "                rank=10, maxIter=10, regParam= 0.1, \n",
        "                coldStartStrategy='drop', nonnegative=True, implicitPrefs=False\n",
        ")"
      ],
      "execution_count": 0,
      "outputs": []
    },
    {
      "cell_type": "code",
      "metadata": {
        "id": "SoymvSVF2SWv",
        "colab_type": "code",
        "colab": {}
      },
      "source": [
        "#Fit the model\n",
        "base_model = als_model.fit(training_data)"
      ],
      "execution_count": 0,
      "outputs": []
    },
    {
      "cell_type": "code",
      "metadata": {
        "id": "Blc8-_Hj3Jkv",
        "colab_type": "code",
        "outputId": "f6ca5429-fde5-42d8-8753-4aece9f33cdf",
        "colab": {
          "base_uri": "https://localhost:8080/",
          "height": 459
        }
      },
      "source": [
        "#Get predictions\n",
        "predictions = base_model.transform(test_data)\n",
        "predictions.show()"
      ],
      "execution_count": 23,
      "outputs": [
        {
          "output_type": "stream",
          "text": [
            "+----------+-------------+------+--------------+--------------+--------------------+----------+\n",
            "| productID|product_index|rating|    reviewerID|reviewer_index|               title|prediction|\n",
            "+----------+-------------+------+--------------+--------------+--------------------+----------+\n",
            "|B00UKOAYQQ|          148|   4.0|A3R5GTYQ50QVMD|          1395|Jack Black Gel Po...| 3.5303087|\n",
            "|B00UKOAYQQ|          148|   5.0|A1QBOC76MIOJYP|          1615|Jack Black Gel Po...| 3.7227428|\n",
            "|B00UKOAYQQ|          148|   5.0| AVU1ILDDYW301|           434|Jack Black Gel Po...| 4.2082872|\n",
            "|B00UKOAYQQ|          148|   3.0| AYNRALJ4X1COS|          2860|Jack Black Gel Po...| 3.3061848|\n",
            "|B00UKOAYQQ|          148|   5.0|A3NHUQ33CFH3VM|          3110|Jack Black Gel Po...| 4.6977525|\n",
            "|B00E4WWS46|          463|   4.0| A7WLP2ROPFTUQ|          1964|blinc Eyeliner Pe...| 3.6517034|\n",
            "|B00U1DGFNW|          471|   4.0| AM83WJG9BE2EP|           165|Vichy Pureté Ther...|  4.061397|\n",
            "|B00U1DGFNW|          471|   5.0| ALYZJ7W14YS26|          1289|Vichy Pureté Ther...|  4.106559|\n",
            "|B00U1DGFNW|          471|   5.0|A2L6BT1PVV9YN0|          1931|Vichy Pureté Ther...|   4.31771|\n",
            "|B00176B9JC|          496|   2.0|A13RTN901YNT7S|           959|BaBylissPRO Nano ...| 3.1847622|\n",
            "|B00176B9JC|          496|   5.0|A1LLVL4YI9Q30C|           511|BaBylissPRO Nano ...|  4.508898|\n",
            "|B00176B9JC|          496|   5.0| AW77KBRLVDD0T|          3417|BaBylissPRO Nano ...|  3.692633|\n",
            "|B003B6S36S|          833|   5.0|A1IIT6KQNH7QX1|          3322|BaBylissPRO Nano ...| 2.0713673|\n",
            "|B000NGI4QI|         1088|   4.0|A22BKY1TAIN2NR|          2810|OPI Nail Lacquer ...|  4.705425|\n",
            "|B000NGI4QI|         1088|   3.0|A1HQ56HXZQJ1WU|          3737|OPI Nail Lacquer ...|   4.22723|\n",
            "|B00021B3XU|         1238|   5.0|A1WX42M589VAMQ|           852|stila Convertible...| 4.2690964|\n",
            "|B00021B3XU|         1238|   5.0|A1BH4B2GYUPAVF|          3632|stila Convertible...| 3.7819972|\n",
            "|B00021B3XU|         1238|   5.0|A2ODA5DCQ7ED73|          2863|stila Convertible...| 3.7628274|\n",
            "|B00NOZI1TU|         1342|   5.0| A3FLDCPC36ELU|          1736|Clarisonic Radian...|  3.985636|\n",
            "|B00NOZI1TU|         1342|   5.0|A1TPW86OHXTXFC|           231|Clarisonic Radian...| 4.6454716|\n",
            "+----------+-------------+------+--------------+--------------+--------------------+----------+\n",
            "only showing top 20 rows\n",
            "\n"
          ],
          "name": "stdout"
        }
      ]
    },
    {
      "cell_type": "code",
      "metadata": {
        "id": "vChbS5BRaVJ4",
        "colab_type": "code",
        "outputId": "3917bb91-0fb5-4f09-f070-5c352f98b943",
        "colab": {
          "base_uri": "https://localhost:8080/",
          "height": 68
        }
      },
      "source": [
        "# Complete the evaluator code\n",
        "evaluator = RegressionEvaluator(metricName=\"rmse\", labelCol=\"rating\", predictionCol=\"prediction\")\n",
        "\n",
        "# Extract the 3 parameters\n",
        "print(evaluator.getMetricName())\n",
        "print(evaluator.getLabelCol())\n",
        "print(evaluator.getPredictionCol())"
      ],
      "execution_count": 24,
      "outputs": [
        {
          "output_type": "stream",
          "text": [
            "rmse\n",
            "rating\n",
            "prediction\n"
          ],
          "name": "stdout"
        }
      ]
    },
    {
      "cell_type": "code",
      "metadata": {
        "id": "jt5HxA26dxOr",
        "colab_type": "code",
        "outputId": "8960f5df-9617-4852-f388-860d754622f5",
        "colab": {
          "base_uri": "https://localhost:8080/",
          "height": 34
        }
      },
      "source": [
        "# Evaluate the \"predictions\" dataframe\n",
        "RMSE = evaluator.evaluate(predictions)\n",
        "\n",
        "# Print the RMSE\n",
        "print (RMSE)"
      ],
      "execution_count": 25,
      "outputs": [
        {
          "output_type": "stream",
          "text": [
            "1.0561215355390317\n"
          ],
          "name": "stdout"
        }
      ]
    },
    {
      "cell_type": "markdown",
      "metadata": {
        "id": "mXiBwgpkzqfI",
        "colab_type": "text"
      },
      "source": [
        "### Tuning the Model\n",
        "Round 1"
      ]
    },
    {
      "cell_type": "code",
      "metadata": {
        "id": "LcRnN2muskbM",
        "colab_type": "code",
        "colab": {}
      },
      "source": [
        "#build the model\n",
        "als_model = ALS(userCol='reviewer_index', itemCol='product_index', ratingCol='rating',  \n",
        "                coldStartStrategy='drop', nonnegative=True, implicitPrefs=False\n",
        ")"
      ],
      "execution_count": 0,
      "outputs": []
    },
    {
      "cell_type": "code",
      "metadata": {
        "colab_type": "code",
        "id": "HwkYplK7IxJj",
        "colab": {}
      },
      "source": [
        "#The parameter grid gives different combinations of parameters to test the model\n",
        "param_grid = ParamGridBuilder() \\\n",
        "              .addGrid(als_model.rank, [10, 15]) \\\n",
        "              .addGrid(als_model.maxIter, [10, 15, 20]) \\\n",
        "              .addGrid(als_model.regParam, [.1, 0.5]) \\\n",
        "              .build()"
      ],
      "execution_count": 0,
      "outputs": []
    },
    {
      "cell_type": "code",
      "metadata": {
        "colab_type": "code",
        "outputId": "ca7ad173-b522-45b9-86ab-6b244e68516f",
        "id": "9zIAQ_6UIxJq",
        "colab": {
          "base_uri": "https://localhost:8080/",
          "height": 34
        }
      },
      "source": [
        "#Evaluate the predictions by using rsme\n",
        "evaluator = RegressionEvaluator(metricName='rmse', labelCol='rating', predictionCol='prediction')\n",
        "print('Number of models to be tested: ', len(param_grid))"
      ],
      "execution_count": 28,
      "outputs": [
        {
          "output_type": "stream",
          "text": [
            "Number of models to be tested:  12\n"
          ],
          "name": "stdout"
        }
      ]
    },
    {
      "cell_type": "code",
      "metadata": {
        "colab_type": "code",
        "outputId": "427070b6-d2df-4e40-e826-5a1da577dab2",
        "id": "HNx-Q0APIxJt",
        "colab": {
          "base_uri": "https://localhost:8080/",
          "height": 34
        }
      },
      "source": [
        "#Cross validation\n",
        "cv = CrossValidator(estimator=als_model, estimatorParamMaps=param_grid, evaluator=evaluator, numFolds=5)\n",
        "print(cv)"
      ],
      "execution_count": 29,
      "outputs": [
        {
          "output_type": "stream",
          "text": [
            "CrossValidator_cdbc536a4383\n"
          ],
          "name": "stdout"
        }
      ]
    },
    {
      "cell_type": "code",
      "metadata": {
        "colab_type": "code",
        "id": "u9LAHAi0IxJv",
        "colab": {}
      },
      "source": [
        "#Fit the model\n",
        "model = cv.fit(training_data)"
      ],
      "execution_count": 0,
      "outputs": []
    },
    {
      "cell_type": "code",
      "metadata": {
        "colab_type": "code",
        "id": "CsBPqGepIxJx",
        "colab": {}
      },
      "source": [
        "#Extract the best combinaton of parameters\n",
        "best_model = model.bestModel"
      ],
      "execution_count": 0,
      "outputs": []
    },
    {
      "cell_type": "code",
      "metadata": {
        "id": "S9WXkWOeJycV",
        "colab_type": "code",
        "colab": {}
      },
      "source": [
        "test_predictions = best_model.transform(test_data)\n",
        "# Calculate the RMSE of test_predictions\n",
        "RMSE_1 = evaluator.evaluate(test_predictions)"
      ],
      "execution_count": 0,
      "outputs": []
    },
    {
      "cell_type": "code",
      "metadata": {
        "id": "oN5RV1zlI7mN",
        "colab_type": "code",
        "outputId": "105b519d-590d-4f2d-d77e-e91e975e7ad0",
        "colab": {
          "base_uri": "https://localhost:8080/",
          "height": 102
        }
      },
      "source": [
        "print('RMSE_1 = ' + str(RMSE_1))\n",
        "print('***Best Model***')\n",
        "print('Rank: ', (best_model.rank))\n",
        "print('MaxIter: ', (best_model._java_obj.parent().getMaxIter()))\n",
        "print('RegParam: ', (best_model._java_obj.parent().getRegParam()))"
      ],
      "execution_count": 33,
      "outputs": [
        {
          "output_type": "stream",
          "text": [
            "RMSE_1 = 1.0442751762512295\n",
            "***Best Model***\n",
            "Rank:  15\n",
            "MaxIter:  20\n",
            "RegParam:  0.1\n"
          ],
          "name": "stdout"
        }
      ]
    },
    {
      "cell_type": "markdown",
      "metadata": {
        "id": "xZ7prMiK5mw3",
        "colab_type": "text"
      },
      "source": [
        "### Tuning the model\n",
        "Round 2"
      ]
    },
    {
      "cell_type": "markdown",
      "metadata": {
        "id": "7zJAGiuUS2TK",
        "colab_type": "text"
      },
      "source": [
        "Since the local drive cannot handle more than 12 combinations, I repeated the process with increased rank and maxIter parameters to try to lower the RMSE."
      ]
    },
    {
      "cell_type": "code",
      "metadata": {
        "colab_type": "code",
        "id": "_oEISa4fANfC",
        "colab": {}
      },
      "source": [
        "param_grid = ParamGridBuilder() \\\n",
        "              .addGrid(als_model.rank, [20, 25]) \\\n",
        "              .addGrid(als_model.maxIter, [10, 15, 20]) \\\n",
        "              .addGrid(als_model.regParam, [.1, .5]) \\\n",
        "              .build()"
      ],
      "execution_count": 0,
      "outputs": []
    },
    {
      "cell_type": "code",
      "metadata": {
        "colab_type": "code",
        "outputId": "a8f5ce0f-b433-44a6-af21-b69d7082fb37",
        "id": "jwfxLGFcANfF",
        "colab": {
          "base_uri": "https://localhost:8080/",
          "height": 34
        }
      },
      "source": [
        "evaluator = RegressionEvaluator(metricName='rmse', labelCol='rating', predictionCol='prediction')\n",
        "print('Number of models to be tested: ', len(param_grid))"
      ],
      "execution_count": 35,
      "outputs": [
        {
          "output_type": "stream",
          "text": [
            "Number of models to be tested:  12\n"
          ],
          "name": "stdout"
        }
      ]
    },
    {
      "cell_type": "code",
      "metadata": {
        "colab_type": "code",
        "id": "OAgMzW4VANfI",
        "colab": {}
      },
      "source": [
        "cv = CrossValidator(estimator=als_model, estimatorParamMaps=param_grid, evaluator=evaluator, numFolds=5)"
      ],
      "execution_count": 0,
      "outputs": []
    },
    {
      "cell_type": "code",
      "metadata": {
        "colab_type": "code",
        "id": "fnFGb6fMANfL",
        "colab": {}
      },
      "source": [
        "model = cv.fit(training_data)"
      ],
      "execution_count": 0,
      "outputs": []
    },
    {
      "cell_type": "code",
      "metadata": {
        "colab_type": "code",
        "id": "ffaFUOi8ANfN",
        "colab": {}
      },
      "source": [
        "best_model = model.bestModel"
      ],
      "execution_count": 0,
      "outputs": []
    },
    {
      "cell_type": "code",
      "metadata": {
        "colab_type": "code",
        "id": "bg6yaHa9ANfP",
        "colab": {}
      },
      "source": [
        "test_predictions = best_model.transform(test_data)\n",
        "RMSE_2 = evaluator.evaluate(test_predictions)"
      ],
      "execution_count": 0,
      "outputs": []
    },
    {
      "cell_type": "code",
      "metadata": {
        "colab_type": "code",
        "outputId": "61275336-023f-4d99-fef9-606ac6e2e900",
        "id": "1Y1P4U4xANfT",
        "colab": {
          "base_uri": "https://localhost:8080/",
          "height": 102
        }
      },
      "source": [
        "print('RMSE_2 = ' + str(RMSE_2))\n",
        "print('***Best Model***')\n",
        "print('Rank: ', (best_model.rank))\n",
        "print('MaxIter: ', (best_model._java_obj.parent().getMaxIter()))\n",
        "print('RegParam: ', (best_model._java_obj.parent().getRegParam()))"
      ],
      "execution_count": 40,
      "outputs": [
        {
          "output_type": "stream",
          "text": [
            "RMSE_2 = 1.0372083563619778\n",
            "***Best Model***\n",
            "Rank:  25\n",
            "MaxIter:  20\n",
            "RegParam:  0.1\n"
          ],
          "name": "stdout"
        }
      ]
    },
    {
      "cell_type": "markdown",
      "metadata": {
        "id": "AFJ6zrri8f4i",
        "colab_type": "text"
      },
      "source": [
        "## Tuning the model: \n",
        "Round 3"
      ]
    },
    {
      "cell_type": "markdown",
      "metadata": {
        "id": "WC6R-TAiWLIc",
        "colab_type": "text"
      },
      "source": [
        "At this point, the RMSE has gotten down to 1.033. Each round the highest parameter has been the best. Going with this pattern, I bumped up the rank and maxIter to see if I can get the RMSE down again. I've also eliminated multiple values for regParam since it hasn't made an impact in the previous combinations."
      ]
    },
    {
      "cell_type": "code",
      "metadata": {
        "colab_type": "code",
        "id": "36mBNSZz8oIg",
        "colab": {}
      },
      "source": [
        "param_grid = ParamGridBuilder() \\\n",
        "              .addGrid(als_model.rank, [30, 35, 40]) \\\n",
        "              .addGrid(als_model.maxIter, [20, 25, 30]) \\\n",
        "              .addGrid(als_model.regParam, [.1]) \\\n",
        "              .build()"
      ],
      "execution_count": 0,
      "outputs": []
    },
    {
      "cell_type": "code",
      "metadata": {
        "colab_type": "code",
        "outputId": "a13aa5fb-d76a-4e5d-ff25-3b2f8def3878",
        "id": "BJkIifRV8oIm",
        "colab": {
          "base_uri": "https://localhost:8080/",
          "height": 34
        }
      },
      "source": [
        "evaluator = RegressionEvaluator(metricName='rmse', labelCol='rating', predictionCol='prediction')\n",
        "print('Number of models to be tested: ', len(param_grid))"
      ],
      "execution_count": 42,
      "outputs": [
        {
          "output_type": "stream",
          "text": [
            "Number of models to be tested:  9\n"
          ],
          "name": "stdout"
        }
      ]
    },
    {
      "cell_type": "code",
      "metadata": {
        "colab_type": "code",
        "id": "Ywmd23hH8oIp",
        "colab": {}
      },
      "source": [
        "cv = CrossValidator(estimator=als_model, estimatorParamMaps=param_grid, evaluator=evaluator, numFolds=5)"
      ],
      "execution_count": 0,
      "outputs": []
    },
    {
      "cell_type": "code",
      "metadata": {
        "colab_type": "code",
        "id": "97ztEJci8oIs",
        "colab": {}
      },
      "source": [
        "model = cv.fit(training_data)"
      ],
      "execution_count": 0,
      "outputs": []
    },
    {
      "cell_type": "code",
      "metadata": {
        "colab_type": "code",
        "id": "V4eI2swf8oIu",
        "colab": {}
      },
      "source": [
        "best_model = model.bestModel"
      ],
      "execution_count": 0,
      "outputs": []
    },
    {
      "cell_type": "code",
      "metadata": {
        "colab_type": "code",
        "id": "MNxco-mc8oI3",
        "colab": {}
      },
      "source": [
        "test_predictions = best_model.transform(test_data)\n",
        "\n",
        "RMSE_3 = evaluator.evaluate(test_predictions)"
      ],
      "execution_count": 0,
      "outputs": []
    },
    {
      "cell_type": "code",
      "metadata": {
        "id": "AYtMT-wS_3Wv",
        "colab_type": "code",
        "outputId": "ea3714d8-b9d5-4aa8-b340-4842d0f31974",
        "colab": {
          "base_uri": "https://localhost:8080/",
          "height": 85
        }
      },
      "source": [
        "print('RMSE_3 = ' + str(RMSE_3))\n",
        "print('***Best Model***')\n",
        "print('Rank: ', (best_model.rank))\n",
        "print('MaxIter: ', (best_model._java_obj.parent().getMaxIter()))"
      ],
      "execution_count": 47,
      "outputs": [
        {
          "output_type": "stream",
          "text": [
            "RMSE_3 = 1.0267772891445814\n",
            "***Best Model***\n",
            "Rank:  40\n",
            "MaxIter:  20\n"
          ],
          "name": "stdout"
        }
      ]
    },
    {
      "cell_type": "markdown",
      "metadata": {
        "id": "oetxCyK1_46P",
        "colab_type": "text"
      },
      "source": [
        "## One more round\n",
        "\n",
        "Just to see if we can get the RSME a any lower."
      ]
    },
    {
      "cell_type": "code",
      "metadata": {
        "colab_type": "code",
        "id": "-GHflyPq_3vH",
        "colab": {}
      },
      "source": [
        "param_grid = ParamGridBuilder() \\\n",
        "              .addGrid(als_model.rank, [50, 55 ]) \\\n",
        "              .addGrid(als_model.maxIter, [20, 50, 100]) \\\n",
        "              .addGrid(als_model.regParam, [.1]) \\\n",
        "              .build()"
      ],
      "execution_count": 0,
      "outputs": []
    },
    {
      "cell_type": "code",
      "metadata": {
        "colab_type": "code",
        "id": "fEe94hhG_3vN",
        "outputId": "a9bc8265-4077-41dc-9764-ee43230c8d39",
        "colab": {
          "base_uri": "https://localhost:8080/",
          "height": 34
        }
      },
      "source": [
        "evaluator = RegressionEvaluator(metricName='rmse', labelCol='rating', predictionCol='prediction')\n",
        "print('Number of models to be tested: ', len(param_grid))"
      ],
      "execution_count": 49,
      "outputs": [
        {
          "output_type": "stream",
          "text": [
            "Number of models to be tested:  6\n"
          ],
          "name": "stdout"
        }
      ]
    },
    {
      "cell_type": "code",
      "metadata": {
        "colab_type": "code",
        "id": "NgG_aBjq_3vR",
        "colab": {}
      },
      "source": [
        "cv = CrossValidator(estimator=als_model, estimatorParamMaps=param_grid, evaluator=evaluator, numFolds=5)"
      ],
      "execution_count": 0,
      "outputs": []
    },
    {
      "cell_type": "code",
      "metadata": {
        "colab_type": "code",
        "id": "raOnUUKQ_3vT",
        "colab": {}
      },
      "source": [
        "model = cv.fit(training_data)"
      ],
      "execution_count": 0,
      "outputs": []
    },
    {
      "cell_type": "code",
      "metadata": {
        "colab_type": "code",
        "id": "YdKCTQto_3vY",
        "colab": {}
      },
      "source": [
        "best_model = model.bestModel"
      ],
      "execution_count": 0,
      "outputs": []
    },
    {
      "cell_type": "code",
      "metadata": {
        "id": "BTThxaEk2L2k",
        "colab_type": "code",
        "colab": {}
      },
      "source": [
        "test_predictions = best_model.transform(test_data)\n",
        "\n",
        "RMSE_4 = evaluator.evaluate(test_predictions)"
      ],
      "execution_count": 0,
      "outputs": []
    },
    {
      "cell_type": "code",
      "metadata": {
        "colab_type": "code",
        "id": "c31sNOIm_3vh",
        "outputId": "372068f8-9f44-4c1f-c83a-a98d82e5a49d",
        "colab": {
          "base_uri": "https://localhost:8080/",
          "height": 85
        }
      },
      "source": [
        "print('RMSE_4 = ' + str(RMSE_4))\n",
        "print('***Best Model***')\n",
        "print('Rank: ', (best_model.rank))\n",
        "print('MaxIter: ', (best_model._java_obj.parent().getMaxIter()))"
      ],
      "execution_count": 54,
      "outputs": [
        {
          "output_type": "stream",
          "text": [
            "RMSE_4 = 1.0261489390009348\n",
            "***Best Model***\n",
            "Rank:  55\n",
            "MaxIter:  20\n"
          ],
          "name": "stdout"
        }
      ]
    },
    {
      "cell_type": "markdown",
      "metadata": {
        "id": "_4nAbTdh5tIc",
        "colab_type": "text"
      },
      "source": [
        "## Model Analysis\n",
        "\n",
        "\n",
        "> After many iterations of the ALS model parameters, the most successful combination is a rank of 55 and maxIter of 20.  The regParam stayed consitent with the default of 0.1.  This combination yields an RMSE for product rating predictions of approximately 1.026. This means that on average, the model predicted rating score is off by about 1 star.  When looking at a 5 star rating scale, predicting anywhere from 4 to 6 stars and being off by 1 is a pretty good guess. This also means that the model could predict a user giving a 2 star rating when they actually gives a 1. In this case, the prediction is not great. However, the recommender system takes the highest predictions, so predicting 1 star too high might not be that bad.\n",
        "\n",
        "\n",
        "> If I had access to and the ability to process a larger amount of data, I believe this model would get an RMSE closer to zero.  This would be the benefit of using a distributed computing framework and easier access to data. \n",
        "\n",
        "\n",
        "> Using the best model I found, I then got the top recommendations for each user. \n",
        "\n",
        "\n",
        "\n"
      ]
    },
    {
      "cell_type": "markdown",
      "metadata": {
        "id": "F5DHGk7uH-_J",
        "colab_type": "text"
      },
      "source": [
        "## Get Recommendations for All Users"
      ]
    },
    {
      "cell_type": "markdown",
      "metadata": {
        "id": "wY9oxdTNTV65",
        "colab_type": "text"
      },
      "source": [
        "\n",
        "\n",
        "> The recommendForAllUsers method generates a list of the n number of products with the highest predicted rating score. \n"
      ]
    },
    {
      "cell_type": "code",
      "metadata": {
        "id": "OhFuzoa-Giwk",
        "colab_type": "code",
        "colab": {
          "base_uri": "https://localhost:8080/",
          "height": 459
        },
        "outputId": "aecf1d37-2341-42c5-888a-2e889dc6db7a"
      },
      "source": [
        "#Get the top 10 recommendations for all users\n",
        "user_recs = best_model.recommendForAllUsers(10)\n",
        "user_recs.show()"
      ],
      "execution_count": 55,
      "outputs": [
        {
          "output_type": "stream",
          "text": [
            "+--------------+--------------------+\n",
            "|reviewer_index|     recommendations|\n",
            "+--------------+--------------------+\n",
            "|          1580|[[1491, 4.8221908...|\n",
            "|           471|[[594, 5.239127],...|\n",
            "|          1591|[[594, 5.60205], ...|\n",
            "|          1342|[[388, 5.2888317]...|\n",
            "|          2122|[[594, 5.0728745]...|\n",
            "|          2142|[[594, 5.113259],...|\n",
            "|           463|[[87, 4.9177847],...|\n",
            "|           833|[[666, 5.0613637]...|\n",
            "|          3794|[[898, 4.829689],...|\n",
            "|          1645|[[641, 5.1238627]...|\n",
            "|          3175|[[594, 5.122922],...|\n",
            "|           496|[[1068, 4.817307]...|\n",
            "|          2366|[[236, 4.9172726]...|\n",
            "|          2866|[[277, 1.6357831]...|\n",
            "|           148|[[496, 4.63317], ...|\n",
            "|          1088|[[875, 5.2042265]...|\n",
            "|          1238|[[424, 2.3528478]...|\n",
            "|          1829|[[1261, 4.7498364...|\n",
            "|          1959|[[424, 5.883332],...|\n",
            "|          2659|[[424, 1.1764729]...|\n",
            "+--------------+--------------------+\n",
            "only showing top 20 rows\n",
            "\n"
          ],
          "name": "stdout"
        }
      ]
    },
    {
      "cell_type": "markdown",
      "metadata": {
        "id": "yRzBkI49XAz4",
        "colab_type": "text"
      },
      "source": [
        "## Improve Readability\n"
      ]
    },
    {
      "cell_type": "markdown",
      "metadata": {
        "id": "lZm0_vbcfqBX",
        "colab_type": "text"
      },
      "source": [
        "The recommendations are not in a user friendly format when first extracted. In order to see the recommendations more clearly, I used the explode and lateral view commands in sql."
      ]
    },
    {
      "cell_type": "code",
      "metadata": {
        "id": "yVzCHAqJNqpe",
        "colab_type": "code",
        "colab": {}
      },
      "source": [
        "user_recs.createTempView('temp')"
      ],
      "execution_count": 0,
      "outputs": []
    },
    {
      "cell_type": "code",
      "metadata": {
        "id": "qR0iiFVaN2Wh",
        "colab_type": "code",
        "colab": {}
      },
      "source": [
        "clean_recs = sqlContext.sql(\"SELECT reviewer_index,\\\n",
        "                                    products_and_ratings.product_index AS product_index,\\\n",
        "                                     products_and_ratings.rating AS prediction\\\n",
        "                              FROM temp\\\n",
        "                              LATERAL VIEW explode(recommendations) exploded_table\\\n",
        "                              AS products_and_ratings\")"
      ],
      "execution_count": 0,
      "outputs": []
    },
    {
      "cell_type": "code",
      "metadata": {
        "id": "heKZDbPuXZtd",
        "colab_type": "code",
        "outputId": "72223704-2b8e-4b7e-f04c-48273030046b",
        "colab": {
          "base_uri": "https://localhost:8080/",
          "height": 459
        }
      },
      "source": [
        "clean_recs.show()"
      ],
      "execution_count": 58,
      "outputs": [
        {
          "output_type": "stream",
          "text": [
            "+--------------+-------------+----------+\n",
            "|reviewer_index|product_index|prediction|\n",
            "+--------------+-------------+----------+\n",
            "|          1580|         1491| 4.8221908|\n",
            "|          1580|          665| 4.7136793|\n",
            "|          1580|         1102|   4.71349|\n",
            "|          1580|         1506|  4.538516|\n",
            "|          1580|         1380| 4.5076046|\n",
            "|          1580|          594|  4.501891|\n",
            "|          1580|          219|  4.482654|\n",
            "|          1580|          560| 4.4688725|\n",
            "|          1580|         1370|  4.467898|\n",
            "|          1580|          661|  4.451627|\n",
            "|           471|          594|  5.239127|\n",
            "|           471|          577|  5.188219|\n",
            "|           471|          530| 5.1852994|\n",
            "|           471|          253|  5.164042|\n",
            "|           471|          388| 5.1612434|\n",
            "|           471|          910|  5.137744|\n",
            "|           471|         1058|  5.125388|\n",
            "|           471|          875|   5.12529|\n",
            "|           471|          711| 5.0952144|\n",
            "|           471|          784|  5.092416|\n",
            "+--------------+-------------+----------+\n",
            "only showing top 20 rows\n",
            "\n"
          ],
          "name": "stdout"
        }
      ]
    },
    {
      "cell_type": "markdown",
      "metadata": {
        "id": "xv3333dlhTx1",
        "colab_type": "text"
      },
      "source": [
        "The resulting dataframe now lists a single recommendation per row. The final steps are to add on the title of the products and convert the indices back to the original IDs."
      ]
    },
    {
      "cell_type": "code",
      "metadata": {
        "id": "aQ5rBYBa3ZXj",
        "colab_type": "code",
        "outputId": "3b234eef-8e4b-4744-c154-54feef9c91be",
        "colab": {
          "base_uri": "https://localhost:8080/",
          "height": 459
        }
      },
      "source": [
        "#Original dataframe containing all columns\n",
        "df.show()"
      ],
      "execution_count": 59,
      "outputs": [
        {
          "output_type": "stream",
          "text": [
            "+----------+-------------+------+--------------+--------------+--------------------+\n",
            "| productID|product_index|rating|    reviewerID|reviewer_index|               title|\n",
            "+----------+-------------+------+--------------+--------------+--------------------+\n",
            "|B000142FVW|          236|   4.0|A3DZFW2XL5S6XK|          1338|OPI Nail Lacquer,...|\n",
            "|B0001435D4|          643|   1.0|A2LAFL37V088EU|            24|OPI Nail Lacquer ...|\n",
            "|B00014GT8W|          353|   3.0|A2V92F5R7MLCVI|           326|Dermablend Cover ...|\n",
            "|B00014GT8W|          353|   4.0| AS44QEHT3KSPK|           330|Dermablend Cover ...|\n",
            "|B00021DXVA|          264|   5.0|A19UTUEBWKIZFT|          1947|VINCENT LONGO Wat...|\n",
            "|B00021DXVA|          264|   4.0|A13KW5I9IHQ039|          3382|VINCENT LONGO Wat...|\n",
            "|B00025WYZC|          786|   4.0|A2FNA5903D9E6Y|           653|Crabtree & Evelyn...|\n",
            "|B0002RI2PG|           86|   5.0| AQCYEZYS51OBC|          3782|Dermablend Loose ...|\n",
            "|B0002RI2PG|           86|   4.0|A2ZJPDH0YP90SD|          2773|Dermablend Loose ...|\n",
            "|B00063M3EC|         1445|   2.0|A1SG1DJ72ISCRU|          3157|Marvis Jasmin Min...|\n",
            "|B0006PJRRG|          503|   2.0|A3HBZYCHTIGP5S|           786|ZOYA Nail Polish,...|\n",
            "|B0006PLMFQ|         1462|   3.0|A23H193P451P74|          2854|essie Nail Color ...|\n",
            "|B0006PLMFQ|         1462|   5.0| A7KDJ0MVYYRA0|           785|essie Nail Color ...|\n",
            "|B0006PLMFQ|         1462|   5.0|A17JGEYNQRYMHE|          1582|essie Nail Color ...|\n",
            "|B0006PLMFQ|         1462|   4.0|A2P652CXM82IH6|          2442|essie Nail Color ...|\n",
            "|B0006PLMFQ|         1462|   5.0|A34ZOFAJWL9UAM|          2798|essie Nail Color ...|\n",
            "|B0007M11XQ|         1289|   4.0| AV37OT7S682UW|           175|Proraso Shaving C...|\n",
            "|B000B9ECAE|         1111|   5.0|A3LSOG7F3ZCJ65|           969|Supersmile Profes...|\n",
            "|B000CR0J0M|            4|   1.0|A29MA4EBRF6TGH|           397|Bioelements Cruci...|\n",
            "|B000G0JZYQ|         1200|   5.0|A11FX8HL2ANK6T|            96|MERKUR Futur Adju...|\n",
            "+----------+-------------+------+--------------+--------------+--------------------+\n",
            "only showing top 20 rows\n",
            "\n"
          ],
          "name": "stdout"
        }
      ]
    },
    {
      "cell_type": "code",
      "metadata": {
        "id": "0xmiQ6MnPPBb",
        "colab_type": "code",
        "outputId": "703580a5-9b5c-4764-f813-9b44bea4f976",
        "colab": {
          "base_uri": "https://localhost:8080/",
          "height": 459
        }
      },
      "source": [
        "#Make a list of unique products with ID and index\n",
        "product_info = df.select('productId', 'product_index', 'title')\n",
        "unique_products = product_info.dropDuplicates()\n",
        "unique_products.show()"
      ],
      "execution_count": 60,
      "outputs": [
        {
          "output_type": "stream",
          "text": [
            "+----------+-------------+--------------------+\n",
            "| productId|product_index|               title|\n",
            "+----------+-------------+--------------------+\n",
            "|B01ELU4DSE|          216|18.21 Man Made Po...|\n",
            "|B00D7E26H6|          101|Laura Biagiotti E...|\n",
            "|B000C1W4TC|          836|Rochas Tocade Eau...|\n",
            "|B003L8RVZ0|          818|Mario Badescu Vit...|\n",
            "|B00FU7L9N0|          239|VINCENT LONGO Crè...|\n",
            "|B0017SY63Q|         1260|Borghese Bagno di...|\n",
            "|B00EFG0XLQ|           41|Antica Farmacista...|\n",
            "|B000YJ3UEK|         1355|RUSK Designer Col...|\n",
            "|B0065I8MC4|         1322|     theBalm Manizer|\n",
            "|B00IBDCYVQ|          674|Obagi360 HydraFac...|\n",
            "|B00004U9V2|         1005|Crabtree & Evelyn...|\n",
            "|B014OSNTJC|          896|T3 - Whirl Conver...|\n",
            "|B000ULF8Q0|         1240|Epicuren Discover...|\n",
            "|B0010E85TS|          595|Juice Beauty Oil-...|\n",
            "|B00205CJWK|          185|Mustela Bathtime ...|\n",
            "|B00M0V3B1C|           29|Dermablend Smooth...|\n",
            "|B000068DWY|           85|Calvin Klein ck o...|\n",
            "|B003RJ165Y|         1430|IMAGE Skincare Vi...|\n",
            "|B004XHOBAG|          459|Jouer Luminizing ...|\n",
            "|B000FDVVVE|         1092|The Art of Shavin...|\n",
            "+----------+-------------+--------------------+\n",
            "only showing top 20 rows\n",
            "\n"
          ],
          "name": "stdout"
        }
      ]
    },
    {
      "cell_type": "code",
      "metadata": {
        "id": "LSTMkrdxaE0h",
        "colab_type": "code",
        "outputId": "a78369dc-5742-450f-f253-c857c7ddbe40",
        "colab": {
          "base_uri": "https://localhost:8080/",
          "height": 459
        }
      },
      "source": [
        "#Add titles and productID to recommendations\n",
        "recs_with_titles = clean_recs.join(unique_products, on='product_index', how='left')\n",
        "recs_with_titles = recs_with_titles.drop('product_index')\n",
        "recs_with_titles.show()"
      ],
      "execution_count": 61,
      "outputs": [
        {
          "output_type": "stream",
          "text": [
            "+--------------+----------+----------+--------------------+\n",
            "|reviewer_index|prediction| productId|               title|\n",
            "+--------------+----------+----------+--------------------+\n",
            "|          1580| 4.8221908|B0062CIEKI|VINCENT LONGO Dew...|\n",
            "|          1580| 4.7136793|B01A61XUU4|FOREO LUNA 2 Pers...|\n",
            "|          1580|   4.71349|B00Q7BBDXY|FHI Heat Stylus T...|\n",
            "|          1580|  4.538516|B000VOHQW0|John Varvatos Vin...|\n",
            "|          1580| 4.5076046|B004SUY46E|AHAVA Dead Sea De...|\n",
            "|          1580|  4.501891|B00113RO5O|NEOVA Power Defen...|\n",
            "|          1580|  4.482654|B003CR4KRM|JACK BLACK – Oil-...|\n",
            "|          1580| 4.4688725|B019QSJMFU|Julep It's Whippe...|\n",
            "|          1580|  4.467898|B0182349TY|Julep It's Whippe...|\n",
            "|          1580|  4.451627|B000W8QWXO|Bioelements Stres...|\n",
            "|           471|  5.239127|B00113RO5O|NEOVA Power Defen...|\n",
            "|           471|  5.188219|B000VNIZGM|Paul Mitchell Sup...|\n",
            "|           471| 5.1852994|B0002Y5JEG|Jurlique Moisture...|\n",
            "|           471|  5.164042|B0015Z532O|Mario Badescu The...|\n",
            "|           471| 5.1612434|B00CSN0ZJI|MONTBLANC Presenc...|\n",
            "|           471|  5.137744|B001G60EGW|L'Occitane Soothi...|\n",
            "|           471|  5.125388|B0089AABLQ|WEN by Chaz Dean ...|\n",
            "|           471|   5.12529|B0047WYO1I|BaBylissPRO Nano ...|\n",
            "|           471| 5.0952144|B004BWBFSY|PCA SKIN Weightle...|\n",
            "|           471|  5.092416|B014UC1QE2|LORAC Limited Edi...|\n",
            "+--------------+----------+----------+--------------------+\n",
            "only showing top 20 rows\n",
            "\n"
          ],
          "name": "stdout"
        }
      ]
    },
    {
      "cell_type": "code",
      "metadata": {
        "id": "pxYKQKmpN4CM",
        "colab_type": "code",
        "outputId": "b4e4b50b-1ec4-4958-854d-77dc83d17259",
        "colab": {
          "base_uri": "https://localhost:8080/",
          "height": 459
        }
      },
      "source": [
        "ratings_df = df.select('productID','reviewer_index','reviewerID','rating')\n",
        "ratings_df.show()"
      ],
      "execution_count": 62,
      "outputs": [
        {
          "output_type": "stream",
          "text": [
            "+----------+--------------+--------------+------+\n",
            "| productID|reviewer_index|    reviewerID|rating|\n",
            "+----------+--------------+--------------+------+\n",
            "|B000142FVW|          1338|A3DZFW2XL5S6XK|   4.0|\n",
            "|B0001435D4|            24|A2LAFL37V088EU|   1.0|\n",
            "|B00014GT8W|           326|A2V92F5R7MLCVI|   3.0|\n",
            "|B00014GT8W|           330| AS44QEHT3KSPK|   4.0|\n",
            "|B00021DXVA|          1947|A19UTUEBWKIZFT|   5.0|\n",
            "|B00021DXVA|          3382|A13KW5I9IHQ039|   4.0|\n",
            "|B00025WYZC|           653|A2FNA5903D9E6Y|   4.0|\n",
            "|B0002RI2PG|          3782| AQCYEZYS51OBC|   5.0|\n",
            "|B0002RI2PG|          2773|A2ZJPDH0YP90SD|   4.0|\n",
            "|B00063M3EC|          3157|A1SG1DJ72ISCRU|   2.0|\n",
            "|B0006PJRRG|           786|A3HBZYCHTIGP5S|   2.0|\n",
            "|B0006PLMFQ|          2854|A23H193P451P74|   3.0|\n",
            "|B0006PLMFQ|           785| A7KDJ0MVYYRA0|   5.0|\n",
            "|B0006PLMFQ|          1582|A17JGEYNQRYMHE|   5.0|\n",
            "|B0006PLMFQ|          2442|A2P652CXM82IH6|   4.0|\n",
            "|B0006PLMFQ|          2798|A34ZOFAJWL9UAM|   5.0|\n",
            "|B0007M11XQ|           175| AV37OT7S682UW|   4.0|\n",
            "|B000B9ECAE|           969|A3LSOG7F3ZCJ65|   5.0|\n",
            "|B000CR0J0M|           397|A29MA4EBRF6TGH|   1.0|\n",
            "|B000G0JZYQ|            96|A11FX8HL2ANK6T|   5.0|\n",
            "+----------+--------------+--------------+------+\n",
            "only showing top 20 rows\n",
            "\n"
          ],
          "name": "stdout"
        }
      ]
    },
    {
      "cell_type": "markdown",
      "metadata": {
        "id": "WgavMzQQngDN",
        "colab_type": "text"
      },
      "source": [
        "At this point, the recommendations do not account for the fact that a reviewer may have already purchased and rated the product. To address this, I joined the original review dataframe to the recommendations. If the rating is null, then the reviewer has not previously rated the product. "
      ]
    },
    {
      "cell_type": "code",
      "metadata": {
        "id": "Tb7U8JqXSn-G",
        "colab_type": "code",
        "outputId": "ad29849d-969d-4a2a-fff7-7e7c53c8ddb9",
        "colab": {
          "base_uri": "https://localhost:8080/",
          "height": 459
        }
      },
      "source": [
        "recommendation_list = recs_with_titles.join(ratings_df, on=['productID', 'reviewer_index'], how='left_outer')\n",
        "recommendation_list = recommendation_list.drop('reviewerID')\n",
        "recommendation_list.show()"
      ],
      "execution_count": 63,
      "outputs": [
        {
          "output_type": "stream",
          "text": [
            "+----------+--------------+----------+--------------------+------+\n",
            "| productId|reviewer_index|prediction|               title|rating|\n",
            "+----------+--------------+----------+--------------------+------+\n",
            "|B0062CIEKI|          1580| 4.8221908|VINCENT LONGO Dew...|   5.0|\n",
            "|B01A61XUU4|          1580| 4.7136793|FOREO LUNA 2 Pers...|   5.0|\n",
            "|B00Q7BBDXY|          1580|   4.71349|FHI Heat Stylus T...|   5.0|\n",
            "|B000VOHQW0|          1580|  4.538516|John Varvatos Vin...|  null|\n",
            "|B004SUY46E|          1580| 4.5076046|AHAVA Dead Sea De...|  null|\n",
            "|B00113RO5O|          1580|  4.501891|NEOVA Power Defen...|  null|\n",
            "|B003CR4KRM|          1580|  4.482654|JACK BLACK – Oil-...|  null|\n",
            "|B019QSJMFU|          1580| 4.4688725|Julep It's Whippe...|  null|\n",
            "|B0182349TY|          1580|  4.467898|Julep It's Whippe...|  null|\n",
            "|B000W8QWXO|          1580|  4.451627|Bioelements Stres...|  null|\n",
            "|B00113RO5O|           471|  5.239127|NEOVA Power Defen...|  null|\n",
            "|B000VNIZGM|           471|  5.188219|Paul Mitchell Sup...|  null|\n",
            "|B0002Y5JEG|           471| 5.1852994|Jurlique Moisture...|  null|\n",
            "|B0015Z532O|           471|  5.164042|Mario Badescu The...|  null|\n",
            "|B00CSN0ZJI|           471| 5.1612434|MONTBLANC Presenc...|  null|\n",
            "|B001G60EGW|           471|  5.137744|L'Occitane Soothi...|  null|\n",
            "|B0089AABLQ|           471|  5.125388|WEN by Chaz Dean ...|  null|\n",
            "|B0047WYO1I|           471|   5.12529|BaBylissPRO Nano ...|  null|\n",
            "|B004BWBFSY|           471| 5.0952144|PCA SKIN Weightle...|  null|\n",
            "|B014UC1QE2|           471|  5.092416|LORAC Limited Edi...|  null|\n",
            "+----------+--------------+----------+--------------------+------+\n",
            "only showing top 20 rows\n",
            "\n"
          ],
          "name": "stdout"
        }
      ]
    },
    {
      "cell_type": "code",
      "metadata": {
        "id": "9l4h8zGpUxTA",
        "colab_type": "code",
        "outputId": "dcd1be78-9223-4376-c9f7-48a28c072ef0",
        "colab": {
          "base_uri": "https://localhost:8080/",
          "height": 459
        }
      },
      "source": [
        "updated_rec_list = recommendation_list.where(col('rating').isNull())\n",
        "updated_rec_list.show()"
      ],
      "execution_count": 64,
      "outputs": [
        {
          "output_type": "stream",
          "text": [
            "+----------+--------------+----------+--------------------+------+\n",
            "| productId|reviewer_index|prediction|               title|rating|\n",
            "+----------+--------------+----------+--------------------+------+\n",
            "|B000VOHQW0|          1580|  4.538516|John Varvatos Vin...|  null|\n",
            "|B004SUY46E|          1580| 4.5076046|AHAVA Dead Sea De...|  null|\n",
            "|B00113RO5O|          1580|  4.501891|NEOVA Power Defen...|  null|\n",
            "|B003CR4KRM|          1580|  4.482654|JACK BLACK – Oil-...|  null|\n",
            "|B019QSJMFU|          1580| 4.4688725|Julep It's Whippe...|  null|\n",
            "|B0182349TY|          1580|  4.467898|Julep It's Whippe...|  null|\n",
            "|B000W8QWXO|          1580|  4.451627|Bioelements Stres...|  null|\n",
            "|B00113RO5O|           471|  5.239127|NEOVA Power Defen...|  null|\n",
            "|B000VNIZGM|           471|  5.188219|Paul Mitchell Sup...|  null|\n",
            "|B0002Y5JEG|           471| 5.1852994|Jurlique Moisture...|  null|\n",
            "|B0015Z532O|           471|  5.164042|Mario Badescu The...|  null|\n",
            "|B00CSN0ZJI|           471| 5.1612434|MONTBLANC Presenc...|  null|\n",
            "|B001G60EGW|           471|  5.137744|L'Occitane Soothi...|  null|\n",
            "|B0089AABLQ|           471|  5.125388|WEN by Chaz Dean ...|  null|\n",
            "|B0047WYO1I|           471|   5.12529|BaBylissPRO Nano ...|  null|\n",
            "|B004BWBFSY|           471| 5.0952144|PCA SKIN Weightle...|  null|\n",
            "|B014UC1QE2|           471|  5.092416|LORAC Limited Edi...|  null|\n",
            "|B00113RO5O|          1591|   5.60205|NEOVA Power Defen...|  null|\n",
            "|B00CSN0ZJI|          1591| 5.3796782|MONTBLANC Presenc...|  null|\n",
            "|B0015Z532O|          1591| 5.3532305|Mario Badescu The...|  null|\n",
            "+----------+--------------+----------+--------------------+------+\n",
            "only showing top 20 rows\n",
            "\n"
          ],
          "name": "stdout"
        }
      ]
    },
    {
      "cell_type": "code",
      "metadata": {
        "id": "JeQVLoGUVvNY",
        "colab_type": "code",
        "colab": {
          "base_uri": "https://localhost:8080/",
          "height": 459
        },
        "outputId": "0fdb6d9c-9693-4fc1-bcc4-1632b3654fc6"
      },
      "source": [
        "#Make a list of unique Reviewers with ID and index\n",
        "reviewerID_info = df.select('reviewerId', 'reviewer_index')\n",
        "unique_reviewers = reviewerID_info.dropDuplicates()\n",
        "unique_reviewers.show()"
      ],
      "execution_count": 65,
      "outputs": [
        {
          "output_type": "stream",
          "text": [
            "+--------------+--------------+\n",
            "|    reviewerId|reviewer_index|\n",
            "+--------------+--------------+\n",
            "|A3TJ9NCZKS46LL|          1259|\n",
            "|A16AXQ11SZA8SQ|          3460|\n",
            "|A11OTLEDSW8ZXD|          3373|\n",
            "|A23VNS0WLAYNT9|          2225|\n",
            "|A17E3NBADNTI3X|          2561|\n",
            "|A1Q4M82OFOIN59|           745|\n",
            "|A3DZSPA2Y48NMG|           449|\n",
            "|A3RV9I6P9O0T50|          3117|\n",
            "|A1OMXVXXP07F05|          1328|\n",
            "|A3PL5EW82A4QKW|          2275|\n",
            "| AVE1SXX3A7B24|           680|\n",
            "| AX9PVIIHKST28|            88|\n",
            "|A1JUUPJVBDOE3O|          2179|\n",
            "| A1UKA7HUAQAMY|          1500|\n",
            "| ADVSW4W1HHYF7|          1437|\n",
            "|A19FRW264WZTGP|           719|\n",
            "|A1IFZDSZE0I08V|          1069|\n",
            "|A24FOXO7AZ7V87|          1845|\n",
            "|A37QX2520O8Z4X|          2099|\n",
            "| A88H8HDPWVVMG|          3663|\n",
            "+--------------+--------------+\n",
            "only showing top 20 rows\n",
            "\n"
          ],
          "name": "stdout"
        }
      ]
    },
    {
      "cell_type": "code",
      "metadata": {
        "id": "3KDbp5SrsRwN",
        "colab_type": "code",
        "colab": {
          "base_uri": "https://localhost:8080/",
          "height": 479
        },
        "outputId": "070686e5-83e5-43af-f27d-73d337d4c020"
      },
      "source": [
        "#Add reviewerID to recommendations\n",
        "final_rec_list = updated_rec_list.join(unique_reviewers, on='reviewer_index', how='left')\n",
        "final_rec_list = final_rec_list.drop('reviewer_index')\n",
        "final_rec_list.select('reviewerId', 'productId', 'title', 'prediction').show(truncate=False)"
      ],
      "execution_count": 66,
      "outputs": [
        {
          "output_type": "stream",
          "text": [
            "+--------------+----------+------------------------------------------------------------------------------------------------------------------------------------------------------------+----------+\n",
            "|reviewerId    |productId |title                                                                                                                                                       |prediction|\n",
            "+--------------+----------+------------------------------------------------------------------------------------------------------------------------------------------------------------+----------+\n",
            "|A2V98TS4QDDCG9|B000VOHQW0|John Varvatos Vintage Eau de Toilette Spray, 4.2 fl. Oz. mens cologne                                                                                       |4.538516  |\n",
            "|A2V98TS4QDDCG9|B004SUY46E|AHAVA Dead Sea Dermud Intensive Moisturizers                                                                                                                |4.5076046 |\n",
            "|A2V98TS4QDDCG9|B00113RO5O|NEOVA Power Defense, 1.0 Fl Oz                                                                                                                              |4.501891  |\n",
            "|A2V98TS4QDDCG9|B003CR4KRM|JACK BLACK – Oil-Free Sun Guard SPF 45 Sunscreen – Performance Remedy, Vitamin-Enriched Sunscreen, Water Resistant, Broad-Spectrum UVA/UVB Protection, 4 oz.|4.482654  |\n",
            "|A2V98TS4QDDCG9|B019QSJMFU|Julep It's Whipped Matte Lip Mousse, Kiss Me                                                                                                                |4.4688725 |\n",
            "|A2V98TS4QDDCG9|B0182349TY|Julep It's Whipped Matte Lip Mousse                                                                                                                         |4.467898  |\n",
            "|A2V98TS4QDDCG9|B000W8QWXO|Bioelements Stress Solution, 1 Ounce                                                                                                                        |4.451627  |\n",
            "|A1GNYV0RA0EQSS|B00113RO5O|NEOVA Power Defense, 1.0 Fl Oz                                                                                                                              |5.239127  |\n",
            "|A1GNYV0RA0EQSS|B000VNIZGM|Paul Mitchell Super Skinny Serum,8.5 Fl Oz                                                                                                                  |5.188219  |\n",
            "|A1GNYV0RA0EQSS|B0002Y5JEG|Jurlique Moisture Replenishing Day Cream, 4.3 oz                                                                                                            |5.1852994 |\n",
            "|A1GNYV0RA0EQSS|B0015Z532O|Mario Badescu The Moisture Magnet SPF 15, 2  Fl Oz                                                                                                          |5.164042  |\n",
            "|A1GNYV0RA0EQSS|B00CSN0ZJI|MONTBLANC Presence Eau de Toilette                                                                                                                          |5.1612434 |\n",
            "|A1GNYV0RA0EQSS|B001G60EGW|L'Occitane Soothing Cade After Shave Balm for Men with Shea Butter, 2.5 fl. oz.                                                                             |5.137744  |\n",
            "|A1GNYV0RA0EQSS|B0089AABLQ|WEN by Chaz Dean Sweet Almond Mint Replenishing Treatment Mist, 6 fl. oz.                                                                                   |5.125388  |\n",
            "|A1GNYV0RA0EQSS|B0047WYO1I|BaBylissPRO Nano Titanium Spring Curling Iron                                                                                                               |5.12529   |\n",
            "|A1GNYV0RA0EQSS|B004BWBFSY|PCA SKIN Weightless Protection Broad Spectrum spf 45 , 2.1 oz.                                                                                              |5.0952144 |\n",
            "|A1GNYV0RA0EQSS|B014UC1QE2|LORAC Limited Edition Pink Champagne Eye Shadow/Cheek Palette (Amazon exclusive)                                                                            |5.092416  |\n",
            "|A2K89R0B20LYHB|B00113RO5O|NEOVA Power Defense, 1.0 Fl Oz                                                                                                                              |5.60205   |\n",
            "|A2K89R0B20LYHB|B00CSN0ZJI|MONTBLANC Presence Eau de Toilette                                                                                                                          |5.3796782 |\n",
            "|A2K89R0B20LYHB|B0015Z532O|Mario Badescu The Moisture Magnet SPF 15, 2  Fl Oz                                                                                                          |5.3532305 |\n",
            "+--------------+----------+------------------------------------------------------------------------------------------------------------------------------------------------------------+----------+\n",
            "only showing top 20 rows\n",
            "\n"
          ],
          "name": "stdout"
        }
      ]
    },
    {
      "cell_type": "markdown",
      "metadata": {
        "id": "gjNNred7_FGM",
        "colab_type": "text"
      },
      "source": [
        "## Final Thoughts\n",
        "\n",
        "Now we have an organized dataframe that contains the top recommended products previously unrated for each user. I personally love finding new beauty products to try. Now, to go find something awesome on Amazon!"
      ]
    },
    {
      "cell_type": "code",
      "metadata": {
        "id": "IPSzn2wlADDr",
        "colab_type": "code",
        "colab": {}
      },
      "source": [
        ""
      ],
      "execution_count": 0,
      "outputs": []
    }
  ]
}